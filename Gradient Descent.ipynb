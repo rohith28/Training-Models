{
 "cells": [
  {
   "cell_type": "markdown",
   "metadata": {},
   "source": [
    "# Gradient Descent\n",
    "\n",
    "Gradient Descent is a very generic optimization algorithm capable of finding optimal solutions to a wide range of problems. The general idea of Gradient Descent is to tweak paramenters iteratively in order to minimize a cost function.\n",
    "\n",
    "Types of Gradient Descent:\n",
    "\n",
    "- Batch Gradient Descent\n",
    "- Stochastic Gradient Descent\n",
    "- Mini-batch Gradient Descent\n",
    "\n",
    "Gradient Descent does : it measures teh local gradient of the error function with regards to the parameter vector $\\theta$, and it goes in the direction of descending gradient. Once the gradient is zero, you have reached a minimum.\n",
    "\n",
    "We start by filling $\\theta$ with random values(random initialization) and then improve it gradually, taking one baby step at a time, each step attempting to decrease teh cost function until the algorithm converges to a minimum. \n",
    "\n",
    "An important paprameter in Gradient Descent is the size of the steps, determined by the learning rate hyperparameter. If the learning rate is \n"
   ]
  },
  {
   "cell_type": "code",
   "execution_count": null,
   "metadata": {},
   "outputs": [],
   "source": []
  }
 ],
 "metadata": {
  "kernelspec": {
   "display_name": "Python 2",
   "language": "python",
   "name": "python2"
  },
  "language_info": {
   "codemirror_mode": {
    "name": "ipython",
    "version": 2
   },
   "file_extension": ".py",
   "mimetype": "text/x-python",
   "name": "python",
   "nbconvert_exporter": "python",
   "pygments_lexer": "ipython2",
   "version": "2.7.14"
  }
 },
 "nbformat": 4,
 "nbformat_minor": 2
}
