{
 "cells": [
  {
   "cell_type": "markdown",
   "metadata": {},
   "source": [
    "# Gradient Descent\n",
    "\n",
    "Gradient Descent is a very generic optimization algorithm capable of finding optimal solutions to a wide range of problems. The general idea of Gradient Descent is to tweak paramenters iteratively in order to minimize a cost function.\n",
    "\n",
    "Types of Gradient Descent:\n",
    "\n",
    "- __Batch Gradient Descent__\n",
    "- __Stochastic Gradient Descent__\n",
    "- __Mini-batch Gradient Descent__\n",
    "\n",
    "Gradient Descent does : it measures teh local gradient of the error function with regards to the parameter vector $\\theta$, and it goes in the direction of descending gradient. Once the gradient is zero, you have reached a minimum.\n",
    "\n",
    "We start by filling $\\theta$ with random values(random initialization) and then improve it gradually, taking one baby step at a time, each step attempting to decrease teh cost function until the algorithm converges to a minimum. \n",
    "\n",
    "An important paprameter in Gradient Descent is the size of the steps, determined by the learning rate hyperparameter. If the _learning rate_ is too small, which will take a long time.\n",
    "If the _learning rate_ is too large, which can miss the optimal solution.\n",
    "\n",
    "MSE cost function for a Linear Regression model happens to be a _convex function_, which means that if you pick any two points on the curve, the line segment joining them never crosses the curve.\n",
    "\n",
    "- That implies that there are no local minima, just one gloabl minimum.\n",
    "- It is also a continuous function with a slope that never changes abruptly.\n",
    "\n",
    "These two factors have a great consequence : Gradient Descent is guranteed to approach arbitarily close the global minimum.\n",
    "\n",
    "\n",
    "__When using Gradient Descent, we should ensure that all features have a similar scale, or else it will take much longer to converge.__\n",
    "\n",
    "Training a model means searchng for a combination of model parameters that minimizes a cost function. It is a search in the model's parameter space: the more parameters a model has the more dimensions this space has, and the harder the search is.\n",
    "\n",
    "<br>\n",
    "\n",
    "## Batch Gradient Descent: \n",
    "<br>\n",
    "To implement Gradient Descent, you need to compute the gradient of the cost function with regards to each model parameter $\\theta_j$. This is called a _partial derivative._ \n",
    "\n",
    "Partial derivative of the cost function:\n",
    "\n",
    "$$ \\frac{\\partial}{\\partial\\theta_j} MSE(\\theta) = \\frac{2}{m} \\sum_{i=1}^m (\\theta^T.x^{(i)}- y^{(i)}) x_j^{(i)} $$\n",
    "\n",
    "To compute all in one go we can use below formula : \n",
    "\n",
    "$$\\nabla_\\theta MSE(\\theta) = \\begin{vmatrix}   \n",
    "                                \\frac{\\partial}{\\partial\\theta_0} MSE(\\theta) \\\\ \n",
    "                                \\frac{\\partial}{\\partial\\theta_1} MSE(\\theta) \\\\ \n",
    "                                 . \\\\\n",
    "                                 . \\\\\n",
    "                                 . \\\\\n",
    "                                 \\frac{\\partial}{\\partial\\theta_n} MSE(\\theta)\n",
    "                                \\end{vmatrix}\n",
    "               = \\frac{2}{m}\\mathbf{X}^T.(\\mathbf{X}.\\theta - y)$$\n",
    "<br>\n",
    "<br>\n",
    "Above formula involves calculations over the full training set $\\mathbf{X}$ at each Gradient Descent step. This is why the algorithm is called _Batch Gradient Descent_: it uses the whole batch of training data at every step. As a result it is terribly slow on large training sets. However Gradient Descent scales well with the number of features. So training a Linear Regression model when there are hundreds of features is much faster using Gradient Descent than Normal Equation.\n",
    "<br>\n",
    "\n",
    "### Implementation of the algorithm"
   ]
  },
  {
   "cell_type": "code",
   "execution_count": 7,
   "metadata": {},
   "outputs": [],
   "source": [
    "import numpy as np\n",
    "\n",
    "eta = 0.1 # learning rate\n",
    "n_iterations = 1000\n",
    "m = 100\n",
    "\n",
    "X = 2 * np.random.rand(100,1)\n",
    "y = 4+3*X+ np.random.randn(100,1)\n",
    "\n",
    "X_b = np.c_[np.ones((100,1)),X]\n",
    "\n",
    "theta = np.random.randn(2,1) # random intialization\n",
    "\n",
    "for itr in range(n_iterations):\n",
    "    gradients = 2/m * X_b.T.dot(X_b.dot(theta) - y)\n",
    "    theta = theta - eta * gradients"
   ]
  },
  {
   "cell_type": "code",
   "execution_count": 8,
   "metadata": {},
   "outputs": [
    {
     "data": {
      "text/plain": [
       "array([[-0.26465683],\n",
       "       [ 2.72016917]])"
      ]
     },
     "execution_count": 8,
     "metadata": {},
     "output_type": "execute_result"
    }
   ],
   "source": [
    "theta"
   ]
  },
  {
   "cell_type": "code",
   "execution_count": 9,
   "metadata": {},
   "outputs": [],
   "source": [
    "X_new = np.array([[0], [2]])\n",
    "X_new_b = np.c_[np.ones((2, 1)), X_new]  # add x0 = 1 to each instance"
   ]
  },
  {
   "cell_type": "code",
   "execution_count": 10,
   "metadata": {},
   "outputs": [
    {
     "data": {
      "text/plain": [
       "array([[-0.26465683],\n",
       "       [ 5.1756815 ]])"
      ]
     },
     "execution_count": 10,
     "metadata": {},
     "output_type": "execute_result"
    }
   ],
   "source": [
    "X_new_b.dot(theta)"
   ]
  },
  {
   "cell_type": "code",
   "execution_count": 11,
   "metadata": {},
   "outputs": [],
   "source": [
    "theta_path_bgd = []\n",
    "\n",
    "def plot_gradient_descent(theta, eta, theta_path=None):\n",
    "    m = len(X_b)\n",
    "    plt.plot(X, y, \"b.\")\n",
    "    n_iterations = 1000\n",
    "    for iteration in range(n_iterations):\n",
    "        if iteration < 10:\n",
    "            y_predict = X_new_b.dot(theta)\n",
    "            style = \"b-\" if iteration > 0 else \"r--\"\n",
    "            plt.plot(X_new, y_predict, style)\n",
    "        gradients = 2/m * X_b.T.dot(X_b.dot(theta) - y)\n",
    "        theta = theta - eta * gradients\n",
    "        if theta_path is not None:\n",
    "            theta_path.append(theta)\n",
    "    plt.xlabel(\"$x_1$\", fontsize=18)\n",
    "    plt.axis([0, 2, 0, 15])\n",
    "    plt.title(r\"$\\eta = {}$\".format(eta), fontsize=16)"
   ]
  },
  {
   "cell_type": "code",
   "execution_count": 14,
   "metadata": {},
   "outputs": [
    {
     "data": {
      "image/png": "[encoded data removed]",
      "text/plain": [
       "<Figure size 720x288 with 3 Axes>"
      ]
     },
     "metadata": {},
     "output_type": "display_data"
    }
   ],
   "source": [
    "import matplotlib\n",
    "import matplotlib.pyplot as plt\n",
    "\n",
    "np.random.seed(42)\n",
    "theta = np.random.randn(2,1)  # random initialization\n",
    "\n",
    "plt.figure(figsize=(10,4))\n",
    "plt.subplot(131); plot_gradient_descent(theta, eta=0.02)\n",
    "plt.ylabel(\"$y$\", rotation=0, fontsize=18)\n",
    "plt.subplot(132); plot_gradient_descent(theta, eta=100, theta_path=theta_path_bgd)\n",
    "plt.subplot(133); plot_gradient_descent(theta, eta=5)\n",
    "\n",
    "plt.show()"
   ]
  },
  {
   "cell_type": "markdown",
   "metadata": {},
   "source": [
    "<br>\n",
    "## Stochastic Gradient Descent \n",
    "<br>\n",
    "\n",
    "The main problem with the Batch Gradient Descent is it uses the whole training set to compute the gradients at every step, which make it very slow when the training set is large. \n",
    "\n",
    "\n",
    "Stochastic Gradescent just picks a random instance in the training set at every step and computes the gradients based only on that single instance. So this makes the algorithm much faster since it has very little data to manipulate at every iteration. It also makes it possible to train on huge training sets, since only one instace needs to be in memory at each iteration.\n",
    "\n",
    "On other hand, due to its stochastic(i.e., random) nature, this algorithm is much less regular than Batch Gradient Descent. The cost function will bounce up and down decresing only on average age. Over time it will end up very close to the minimum, but once it gets there it will continue to bounce around, never settling down. So once the algorithm stops, the final parameter values ar good but not optimal.\n",
    "\n",
    "When the cost function is very irregular this can actually help the algorithm jump out of local minima, so Stochastic Gradient Descent has a better chance of finding the global minimum that Batch Gradient Descent does.\n",
    "\n",
    "Therefore randomness is good to escape from local optima, but bad becuase it means that the algorithm can never settle at the minimum.\n",
    "\n",
    " "
   ]
  },
  {
   "cell_type": "code",
   "execution_count": null,
   "metadata": {},
   "outputs": [],
   "source": []
  }
 ],
 "metadata": {
  "kernelspec": {
   "display_name": "Python 2",
   "language": "python",
   "name": "python2"
  },
  "language_info": {
   "codemirror_mode": {
    "name": "ipython",
    "version": 2
   },
   "file_extension": ".py",
   "mimetype": "text/x-python",
   "name": "python",
   "nbconvert_exporter": "python",
   "pygments_lexer": "ipython2",
   "version": "2.7.14"
  }
 },
 "nbformat": 4,
 "nbformat_minor": 2
}
