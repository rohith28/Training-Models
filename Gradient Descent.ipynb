{
 "cells": [
  {
   "cell_type": "markdown",
   "metadata": {},
   "source": [
    "# Gradient Descent\n",
    "\n",
    "Gradient Descent is a very generic optimization algorithm capable of finding optimal solutions to a wide range of problems. The general idea of Gradient Descent is to tweak paramenters iteratively in order to minimize a cost function.\n",
    "\n",
    "Types of Gradient Descent:\n",
    "\n",
    "- __Batch Gradient Descent__\n",
    "- __Stochastic Gradient Descent__\n",
    "- __Mini-batch Gradient Descent__\n",
    "\n",
    "Gradient Descent does : it measures teh local gradient of the error function with regards to the parameter vector $\\theta$, and it goes in the direction of descending gradient. Once the gradient is zero, you have reached a minimum.\n",
    "\n",
    "We start by filling $\\theta$ with random values(random initialization) and then improve it gradually, taking one baby step at a time, each step attempting to decrease teh cost function until the algorithm converges to a minimum. \n",
    "\n",
    "An important paprameter in Gradient Descent is the size of the steps, determined by the learning rate hyperparameter. If the _learning rate_ is too small, which will take a long time.\n",
    "If the _learning rate_ is too large, which can miss the optimal solution.\n",
    "\n",
    "MSE cost function for a Linear Regression model happens to be a _convex function_, which means that if you pick any two points on the curve, the line segment joining them never crosses the curve.\n",
    "\n",
    "- That implies that there are no local minima, just one gloabl minimum.\n",
    "- It is also a continuous function with a slope that never changes abruptly.\n",
    "\n",
    "These two factors have a great consequence : Gradient Descent is guranteed to approach arbitarily close the global minimum.\n",
    "\n",
    "\n",
    "__When using Gradient Descent, we should ensure that all features have a similar scale, or else it will take much longer to converge.__\n",
    "\n",
    "Training a model means searchng for a combination of model parameters that minimizes a cost function. It is a search in the model's parameter space: the more parameters a model has the more dimensions this space has, and the harder the search is.\n",
    "\n",
    "<br>\n",
    "\n",
    "## Batch Gradient Descent: \n",
    "\n",
    "To implement Gradient Descent, you need to compute the gradient of the cost function with regards to each model parameter $\\theta_j$. This is called a _partial derivative._ \n",
    "\n",
    "Partial derivative of the cost function:\n",
    "\n",
    "$$ \\frac{\\partial}{\\partial\\theta_j} MSE(\\theta) = \\frac{2}{m} \\sum_{i=1}^m (\\theta^T.x^{(i)}- y^{(i)}) x_j^{(i)} $$\n",
    "\n",
    "To compute all in one go we can use below formula : \n",
    "\n",
    "$$\\nabla_\\theta MSE(\\theta) = \\begin{vmatrix}   \n",
    "                                \\frac{\\partial}{\\partial\\theta_0} MSE(\\theta) \\\\ \n",
    "                                \\frac{\\partial}{\\partial\\theta_1} MSE(\\theta) \\\\ \n",
    "                                 . \\\\\n",
    "                                 . \\\\\n",
    "                                 . \\\\\n",
    "                                 \\frac{\\partial}{\\partial\\theta_n} MSE(\\theta)\n",
    "                                \\end{vmatrix}\n",
    "               = \\frac{2}{m}\\mathbf{X}^T.(\\mathbf{X}.\\theta - y)$$\n",
    "<br>\n",
    "Above formula involves calculations over the full training set $\\mathbf{X}$"
   ]
  },
  {
   "cell_type": "code",
   "execution_count": null,
   "metadata": {},
   "outputs": [],
   "source": []
  }
 ],
 "metadata": {
  "kernelspec": {
   "display_name": "Python 2",
   "language": "python",
   "name": "python2"
  },
  "language_info": {
   "codemirror_mode": {
    "name": "ipython",
    "version": 2
   },
   "file_extension": ".py",
   "mimetype": "text/x-python",
   "name": "python",
   "nbconvert_exporter": "python",
   "pygments_lexer": "ipython2",
   "version": "2.7.14"
  }
 },
 "nbformat": 4,
 "nbformat_minor": 2
}
