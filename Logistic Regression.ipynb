{
 "cells": [
  {
   "cell_type": "markdown",
   "metadata": {},
   "source": [
    "# Logistic Regression\n",
    "Logistic Regression is also called as Logi Regression. It is commonly used to estimate the probability that an instace belongs to a particular class.\n",
    "If the estimated probability is greater than 50% then the model predicts that the instance belongs to the class or else it predicts that it does not.\n",
    "\n",
    "## Estimating Probabilities\n",
    "\n",
    "Logistic Regression model computes a weighted sum of the input features but instead of outputting the result directly like the Linear Regression model does, it outputs the logistic of this result\n",
    "\n",
    "$$ \\dot{p} = h_{\\theta}(x) = \\sigma(\\theta^T . X)$$\n",
    "\n",
    "$\\sigma(.)$ is a signoid function that outputs a number between 0 and 1.\n",
    "\n",
    "$$\\sigma(t) = \\frac{1}{1+e^{-t}}$$\n",
    "\n",
    "Once the Logistic Regression model has estimated the probability   $\\dot{p} = h_{\\theta}(x)$  that an instance x belongs to the positive class, it can make its prediction $\\dot{y}$ easily.\n",
    "\n",
    "$\\dot{y}$ = 0 if p < 0.5, <br>\n",
    "$\\dot{y}$ = 1 if p > 0.5,\n",
    "\n",
    "## Training and Cost Function : \n",
    "\n",
    "\n"
   ]
  },
  {
   "cell_type": "code",
   "execution_count": null,
   "metadata": {},
   "outputs": [],
   "source": []
  }
 ],
 "metadata": {
  "kernelspec": {
   "display_name": "Python 2",
   "language": "python",
   "name": "python2"
  },
  "language_info": {
   "codemirror_mode": {
    "name": "ipython",
    "version": 2
   },
   "file_extension": ".py",
   "mimetype": "text/x-python",
   "name": "python",
   "nbconvert_exporter": "python",
   "pygments_lexer": "ipython2",
   "version": "2.7.14"
  }
 },
 "nbformat": 4,
 "nbformat_minor": 2
}
