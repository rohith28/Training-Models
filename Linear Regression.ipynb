{
 "cells": [
  {
   "cell_type": "markdown",
   "metadata": {},
   "source": [
    "# Linear Regression\n",
    "\n",
    "\n",
    "In this notebook, I am going to learn and implement Linear Regression.\n",
    "\n",
    "There are two different ways to train Linear Regression :\n",
    "\n",
    "- Using a direct \"closed-form\" equation that directly computes the model parameters that best fit the model to the training set.\n",
    "\n",
    "\n",
    "- Using an iterative optimization approach called Gradient Descent (GD), that gradually tweaks the model parameters to minimize the cost function over the training set.\n",
    "\n",
    "    There are few variants of Gradient Descent\n",
    "    \n",
    "    - Batch GD\n",
    "    - Mini-batch GD\n",
    "    - Stochastic GD\n",
    "    \n",
    "    \n",
    "Generally Linear regression model predicition is simply sum of the input features, plus a constant called _bias term_.\n",
    "\n",
    "\\begin{align}\n",
    "\\dot{y} & = \\theta_0 + \\theta_1 * x_1+ \\theta_2 * x_2 +.......+ \\theta_n * x_n \\\n",
    "\\end{align}\n",
    "\n",
    "\n",
    "- y is the predicted value\n",
    "- n is the number of features\n",
    "- $x_i$ is the $i^{th}$ feature value\n",
    "- $\\theta_j$ is the $j{th}$ model parameter\n",
    "\n",
    "\n",
    "Vectorized form of Linear Model :\n",
    "\n",
    "\\begin{align}\n",
    "\\dot{y} & = h_{\\theta}(x) = \\theta^T * x\\\n",
    "\\end{align}\n",
    "\n",
    "- $\\theta$ is the model _Parameter vector_, containing the bias term $\\theta_0$ and the feature weights $\\theta_1$ to $\\theta_0$\n",
    "- $\\theta^T$ is the transpose of $\\theta$\n",
    "- x is the instaces _feature vector_, containing $x_0$ to $x_n$ with $x_0$ always equal to 1.\n",
    "- $\\theta^T$.x is the dot product of $\\theta^T$ and x.\n",
    "- $h_\\theta$ is the hypothesis function, using the model parameters $\\theta$\n",
    "\n",
    "Training a model means setting its parameters so that the model best fits the training set. First we need a measure of how well the model fits the training data. Most common performance measure of a regression model is the _Root Mean Square Error(RMSE)_. It is simpler to minimize the _Mean Square Error(MSE)_ than the RMSE, it leads to same result.\n",
    "\n",
    "\n",
    "The _MSE_ of a Linear Regression hypothesis $h_{\\theta}$ on a training set X is calculated using below equation :\n",
    "\n",
    "\\begin{align}\n",
    "MSE(X,h_\\theta) = \\frac{1}{m} \\sum_{i=1}^m(\\theta^T. x^{(i)} - y^{(i)})^2\n",
    "\\end{align}"
   ]
  },
  {
   "cell_type": "code",
   "execution_count": 23,
   "metadata": {},
   "outputs": [
    {
     "data": {
      "image/png": "[encoded data removed]",
      "text/plain": [
       "<Figure size 432x288 with 1 Axes>"
      ]
     },
     "metadata": {},
     "output_type": "display_data"
    }
   ],
   "source": [
    "import numpy as np\n",
    "%matplotlib inline\n",
    "\n",
    "import matplotlib\n",
    "import matplotlib.pyplot as plt\n",
    "\n",
    "x = 2 * np.random.rand(100,1)\n",
    "y = 4+3*x+ np.random.randn(100,1)\n",
    "\n",
    "plt.scatter(x,y)\n",
    "plt.xlim(-0.3,2.5)\n",
    "plt.ylim(0,16)\n",
    "plt.xlabel(\"x\")\n",
    "plt.ylabel(\"y\")\n",
    "plt.show()"
   ]
  },
  {
   "cell_type": "code",
   "execution_count": 24,
   "metadata": {},
   "outputs": [],
   "source": [
    "X_b = np.c_[np.ones((100,1)),x]\n",
    "theta_best = np.linalg.inv(X_b.T.dot(X_b)).dot(X_b.T).dot(y)"
   ]
  },
  {
   "cell_type": "code",
   "execution_count": 25,
   "metadata": {},
   "outputs": [
    {
     "data": {
      "text/plain": [
       "array([[4.00805978],\n",
       "       [3.03847419]])"
      ]
     },
     "execution_count": 25,
     "metadata": {},
     "output_type": "execute_result"
    }
   ],
   "source": [
    "theta_best"
   ]
  },
  {
   "cell_type": "markdown",
   "metadata": {},
   "source": [
    "The actual function we used to generate data is \n",
    "\n",
    "\\begin{align}\n",
    "y = 4 + 3* x_0 + noise\n",
    "\\end{align}\n",
    "\n",
    "our theta values \n",
    "\n",
    "$\\theta_0$ : 4.00805978\n",
    "\n",
    "$\\theta_1$ : 3.03847419"
   ]
  },
  {
   "cell_type": "code",
   "execution_count": 27,
   "metadata": {},
   "outputs": [
    {
     "data": {
      "text/plain": [
       "array([[ 4.00805978],\n",
       "       [10.08500816]])"
      ]
     },
     "execution_count": 27,
     "metadata": {},
     "output_type": "execute_result"
    }
   ],
   "source": [
    "X_new = np.array([[0],[2]])\n",
    "\n",
    "X_new_b = np.c_[np.ones((2,1)), X_new]\n",
    "y_predict = X_new_b.dot(theta_best)\n",
    "y_predict"
   ]
  },
  {
   "cell_type": "code",
   "execution_count": 38,
   "metadata": {},
   "outputs": [
    {
     "data": {
      "image/png": "[encoded data removed]",
      "text/plain": [
       "<Figure size 432x288 with 1 Axes>"
      ]
     },
     "metadata": {},
     "output_type": "display_data"
    }
   ],
   "source": [
    "plt.plot(X_new,y_predict,\"r-\", linewidth=2, label=\"Predictions\")\n",
    "plt.plot(x,y,\"b.\")\n",
    "plt.xlabel(\"$x_1$\", fontsize=18)\n",
    "plt.ylabel(\"$y$\", rotation=0, fontsize=18)\n",
    "plt.legend(loc=\"upper left\", fontsize=14)\n",
    "plt.axis([0,2,0,15])\n",
    "plt.show()"
   ]
  },
  {
   "cell_type": "markdown",
   "metadata": {},
   "source": [
    "The equivalent code using Scikit-Learn is :"
   ]
  },
  {
   "cell_type": "code",
   "execution_count": 41,
   "metadata": {},
   "outputs": [
    {
     "data": {
      "text/plain": [
       "(array([4.00805978]), array([[3.03847419]]))"
      ]
     },
     "execution_count": 41,
     "metadata": {},
     "output_type": "execute_result"
    }
   ],
   "source": [
    "from sklearn.linear_model import LinearRegression\n",
    "\n",
    "lin_Reg = LinearRegression()\n",
    "lin_Reg.fit(x,y)\n",
    "lin_Reg.intercept_, lin_Reg.coef_"
   ]
  },
  {
   "cell_type": "code",
   "execution_count": 42,
   "metadata": {},
   "outputs": [
    {
     "data": {
      "text/plain": [
       "array([[ 4.00805978],\n",
       "       [10.08500816]])"
      ]
     },
     "execution_count": 42,
     "metadata": {},
     "output_type": "execute_result"
    }
   ],
   "source": [
    "lin_Reg.predict(X_new)"
   ]
  },
  {
   "cell_type": "code",
   "execution_count": null,
   "metadata": {},
   "outputs": [],
   "source": []
  }
 ],
 "metadata": {
  "kernelspec": {
   "display_name": "Python 2",
   "language": "python",
   "name": "python2"
  },
  "language_info": {
   "codemirror_mode": {
    "name": "ipython",
    "version": 2
   },
   "file_extension": ".py",
   "mimetype": "text/x-python",
   "name": "python",
   "nbconvert_exporter": "python",
   "pygments_lexer": "ipython2",
   "version": "2.7.14"
  }
 },
 "nbformat": 4,
 "nbformat_minor": 2
}
