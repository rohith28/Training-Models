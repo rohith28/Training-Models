{
 "cells": [
  {
   "cell_type": "markdown",
   "metadata": {},
   "source": [
    "# Linear Regression\n",
    "\n",
    "\n",
    "In this notebook, I am going to learn and implement Linear Regression.\n",
    "\n",
    "There are two different ways to train Linear Regression :\n",
    "\n",
    "- Using a direct \"closed-form\" equation that directly computes the model parameters that best fit the model to the training set.\n",
    "\n",
    "\n",
    "- Using an iterative optimization approach called Gradient Descent (GD), that gradually tweaks the model parameters to minimize the cost function over the training set.\n",
    "\n",
    "\n"
   ]
  },
  {
   "cell_type": "code",
   "execution_count": null,
   "metadata": {},
   "outputs": [],
   "source": []
  }
 ],
 "metadata": {
  "kernelspec": {
   "display_name": "Python 2",
   "language": "python",
   "name": "python2"
  },
  "language_info": {
   "codemirror_mode": {
    "name": "ipython",
    "version": 2
   },
   "file_extension": ".py",
   "mimetype": "text/x-python",
   "name": "python",
   "nbconvert_exporter": "python",
   "pygments_lexer": "ipython2",
   "version": "2.7.14"
  }
 },
 "nbformat": 4,
 "nbformat_minor": 2
}
